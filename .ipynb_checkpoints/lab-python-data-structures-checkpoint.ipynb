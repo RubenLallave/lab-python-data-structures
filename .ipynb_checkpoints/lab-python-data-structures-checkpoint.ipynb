{
 "cells": [
  {
   "cell_type": "markdown",
   "metadata": {
    "tags": []
   },
   "source": [
    "# Lab | Data Structures "
   ]
  },
  {
   "cell_type": "markdown",
   "metadata": {},
   "source": [
    "## Exercise: Managing Customer Orders\n",
    "\n",
    "As part of a business venture, you are starting an online store that sells various products. To ensure smooth operations, you need to develop a program that manages customer orders and inventory.\n",
    "\n",
    "Follow the steps below to complete the exercise:\n",
    "\n",
    "1. Define a list called `products` that contains the following items: \"t-shirt\", \"mug\", \"hat\", \"book\", \"keychain\".\n",
    "\n",
    "2. Create an empty dictionary called `inventory`.\n",
    "\n",
    "3. Ask the user to input the quantity of each product available in the inventory. Use the product names from the `products` list as keys in the `inventory` dictionary and assign the respective quantities as values.\n",
    "\n",
    "4. Create an empty set called `customer_orders`.\n",
    "\n",
    "5. Ask the user to input the name of three products that a customer wants to order (from those in the products list, meaning three products out of \"t-shirt\", \"mug\", \"hat\", \"book\" or \"keychain\". Add each product name to the `customer_orders` set.\n",
    "\n",
    "6. Print the products in the `customer_orders` set.\n",
    "\n",
    "7. Calculate the following order statistics:\n",
    "   - Total Products Ordered: The total number of products in the `customer_orders` set.\n",
    "   - Percentage of Products Ordered: The percentage of products ordered compared to the total available products.\n",
    "   \n",
    "   Store these statistics in a tuple called `order_status`.\n",
    "\n",
    "8. Print the order statistics using the following format:\n",
    "   ```\n",
    "   Order Statistics:\n",
    "   Total Products Ordered: <total_products_ordered>\n",
    "   Percentage of Products Ordered: <percentage_ordered>% \n",
    "   ```\n",
    "\n",
    "9. Update the inventory by subtracting 1 from the quantity of each product. Modify the `inventory` dictionary accordingly.\n",
    "\n",
    "10. Print the updated inventory, displaying the quantity of each product on separate lines.\n",
    "\n",
    "Solve the exercise by implementing the steps using the Python concepts of lists, dictionaries, sets, and basic input/output operations. "
   ]
  },
  {
   "cell_type": "code",
   "execution_count": 1,
   "metadata": {},
   "outputs": [
    {
     "name": "stdin",
     "output_type": "stream",
     "text": [
      "Please, write here the quantity available of t-shirts: 5\n",
      "Please, write here the quantity available of mugs: 6\n",
      "Please, write here the quantity available of hats: 7\n",
      "Please, write here the quantity available of books: 8\n",
      "Please, write here the quantity available of keychain: 9\n"
     ]
    }
   ],
   "source": [
    "products = [\"t-shirt\", \"mug\", \"hat\", \"book\", \"keychain\"]\n",
    "inventory = {}\n",
    "inventory['t-shirt'] = int(input(\"Please, write here the quantity available of t-shirts:\"))\n",
    "inventory['mug'] = int(input(\"Please, write here the quantity available of mugs:\"))\n",
    "inventory['hat'] = int(input(\"Please, write here the quantity available of hats:\"))\n",
    "inventory['book'] = int(input(\"Please, write here the quantity available of books:\"))\n",
    "inventory['keychain'] = int(input(\"Please, write here the quantity available of keychain:\"))"
   ]
  },
  {
   "cell_type": "code",
   "execution_count": 2,
   "metadata": {},
   "outputs": [
    {
     "name": "stdin",
     "output_type": "stream",
     "text": [
      "Please, write here the first desired product: mug\n",
      "Please, write here the second desired product: book\n",
      "Please, write here the third desired product: hat\n"
     ]
    }
   ],
   "source": [
    "customer_orders = set()\n",
    "product1 = input(\"Please, write here the first desired product:\")\n",
    "product2 = input(\"Please, write here the second desired product:\")\n",
    "product3 = input(\"Please, write here the third desired product:\")\n",
    "customer_orders.add(product1)\n",
    "customer_orders.add(product2)\n",
    "customer_orders.add(product3)"
   ]
  },
  {
   "cell_type": "code",
   "execution_count": 3,
   "metadata": {},
   "outputs": [
    {
     "name": "stdout",
     "output_type": "stream",
     "text": [
      "{'book', 'mug', 'hat'}\n"
     ]
    }
   ],
   "source": [
    "print(customer_orders)"
   ]
  },
  {
   "cell_type": "code",
   "execution_count": 6,
   "metadata": {},
   "outputs": [],
   "source": [
    "total_products_ordered = len(customer_orders)"
   ]
  },
  {
   "cell_type": "code",
   "execution_count": 7,
   "metadata": {},
   "outputs": [],
   "source": [
    "percentage_ordered = (len(customer_orders) * 100) / (inventory['t-shirt'] + inventory['mug'] + inventory['hat'] + inventory['book'] + inventory['keychain'])"
   ]
  },
  {
   "cell_type": "code",
   "execution_count": 8,
   "metadata": {},
   "outputs": [],
   "source": [
    "order_status = (total_products_ordered, percentage_ordered)"
   ]
  },
  {
   "cell_type": "code",
   "execution_count": 9,
   "metadata": {},
   "outputs": [
    {
     "name": "stdout",
     "output_type": "stream",
     "text": [
      "3\n",
      "8.571428571428571 %\n"
     ]
    }
   ],
   "source": [
    "print(total_products_ordered)\n",
    "print(percentage_ordered, \"%\")"
   ]
  },
  {
   "cell_type": "code",
   "execution_count": 10,
   "metadata": {},
   "outputs": [],
   "source": [
    "inventory['t-shirt'] = inventory['t-shirt'] - 1\n",
    "inventory['mug'] = inventory['mug'] - 1\n",
    "inventory['hat'] = inventory['hat'] - 1\n",
    "inventory['book'] = inventory['book'] - 1\n",
    "inventory['keychain'] = inventory['keychain'] - 1"
   ]
  },
  {
   "cell_type": "code",
   "execution_count": 11,
   "metadata": {},
   "outputs": [
    {
     "name": "stdout",
     "output_type": "stream",
     "text": [
      "t-shirt: 4\n",
      "mug: 5\n",
      "hat: 6\n",
      "book: 7\n",
      "keychain: 8\n"
     ]
    }
   ],
   "source": [
    "print(\"t-shirt:\", inventory[\"t-shirt\"])\n",
    "print(\"mug:\", inventory[\"mug\"])\n",
    "print(\"hat:\", inventory[\"hat\"])\n",
    "print(\"book:\", inventory[\"book\"])\n",
    "print(\"keychain:\", inventory[\"keychain\"])"
   ]
  },
  {
   "cell_type": "code",
   "execution_count": null,
   "metadata": {},
   "outputs": [],
   "source": []
  }
 ],
 "metadata": {
  "kernelspec": {
   "display_name": "Python 3 (ipykernel)",
   "language": "python",
   "name": "python3"
  },
  "language_info": {
   "codemirror_mode": {
    "name": "ipython",
    "version": 3
   },
   "file_extension": ".py",
   "mimetype": "text/x-python",
   "name": "python",
   "nbconvert_exporter": "python",
   "pygments_lexer": "ipython3",
   "version": "3.12.7"
  }
 },
 "nbformat": 4,
 "nbformat_minor": 4
}
